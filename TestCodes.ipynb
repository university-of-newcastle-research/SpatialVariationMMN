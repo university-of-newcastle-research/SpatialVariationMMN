{
 "cells": [
  {
   "cell_type": "markdown",
   "id": "incident-brighton",
   "metadata": {},
   "source": [
    "# Data review"
   ]
  },
  {
   "cell_type": "code",
   "execution_count": 2,
   "id": "linear-rebound",
   "metadata": {},
   "outputs": [],
   "source": [
    "import pandas as pd\n",
    "import numpy as np"
   ]
  },
  {
   "cell_type": "markdown",
   "id": "permanent-hampton",
   "metadata": {},
   "source": [
    "First, checking whether the numbers of codes of each type match between the EEG file and the psychopy CSV file"
   ]
  },
  {
   "cell_type": "code",
   "execution_count": 3,
   "id": "offensive-breach",
   "metadata": {},
   "outputs": [],
   "source": [
    "psychopy_file = 'data_files/Cond1Full_Mattsen_Study3_2021_Jun_25_1057.csv'\n",
    "eeg_file = 'data_files/Condition1Full.vmrk'\n",
    "\n",
    "csv = pd.read_csv(psychopy_file)\n",
    "\n",
    "eeg = pd.read_csv(eeg_file,\n",
    "                  skiprows=12,\n",
    "                  header=None,\n",
    "                  names=['type', 'evtcode', 'time', 'tmp1', 'tmp2'],\n",
    "                  usecols=['evtcode', 'time'])"
   ]
  },
  {
   "cell_type": "markdown",
   "id": "mobile-processor",
   "metadata": {},
   "source": [
    "Clean up some types and formatting in the eeg file"
   ]
  },
  {
   "cell_type": "code",
   "execution_count": 4,
   "id": "varied-quarter",
   "metadata": {},
   "outputs": [],
   "source": [
    "eeg.evtcode = eeg.evtcode.str.split(expand=True).iloc[:, 1]\n",
    "eeg.evtcode = eeg.evtcode.astype('int64')"
   ]
  },
  {
   "cell_type": "markdown",
   "id": "illegal-fusion",
   "metadata": {},
   "source": [
    "Now combine the files into one dataframe"
   ]
  },
  {
   "cell_type": "code",
   "execution_count": 5,
   "id": "statistical-stephen",
   "metadata": {},
   "outputs": [
    {
     "data": {
      "text/html": [
       "<div>\n",
       "<style scoped>\n",
       "    .dataframe tbody tr th:only-of-type {\n",
       "        vertical-align: middle;\n",
       "    }\n",
       "\n",
       "    .dataframe tbody tr th {\n",
       "        vertical-align: top;\n",
       "    }\n",
       "\n",
       "    .dataframe thead th {\n",
       "        text-align: right;\n",
       "    }\n",
       "</style>\n",
       "<table border=\"1\" class=\"dataframe\">\n",
       "  <thead>\n",
       "    <tr style=\"text-align: right;\">\n",
       "      <th></th>\n",
       "      <th>sound</th>\n",
       "      <th>evtcode</th>\n",
       "    </tr>\n",
       "  </thead>\n",
       "  <tbody>\n",
       "    <tr>\n",
       "      <th>1</th>\n",
       "      <td>1167</td>\n",
       "      <td>1167</td>\n",
       "    </tr>\n",
       "    <tr>\n",
       "      <th>2</th>\n",
       "      <td>135</td>\n",
       "      <td>135</td>\n",
       "    </tr>\n",
       "    <tr>\n",
       "      <th>3</th>\n",
       "      <td>1167</td>\n",
       "      <td>1167</td>\n",
       "    </tr>\n",
       "    <tr>\n",
       "      <th>4</th>\n",
       "      <td>135</td>\n",
       "      <td>135</td>\n",
       "    </tr>\n",
       "    <tr>\n",
       "      <th>11</th>\n",
       "      <td>1167</td>\n",
       "      <td>1167</td>\n",
       "    </tr>\n",
       "    <tr>\n",
       "      <th>12</th>\n",
       "      <td>135</td>\n",
       "      <td>135</td>\n",
       "    </tr>\n",
       "    <tr>\n",
       "      <th>13</th>\n",
       "      <td>1167</td>\n",
       "      <td>1167</td>\n",
       "    </tr>\n",
       "    <tr>\n",
       "      <th>14</th>\n",
       "      <td>135</td>\n",
       "      <td>135</td>\n",
       "    </tr>\n",
       "    <tr>\n",
       "      <th>98</th>\n",
       "      <td>540</td>\n",
       "      <td>540</td>\n",
       "    </tr>\n",
       "    <tr>\n",
       "      <th>99</th>\n",
       "      <td>12</td>\n",
       "      <td>11</td>\n",
       "    </tr>\n",
       "  </tbody>\n",
       "</table>\n",
       "</div>"
      ],
      "text/plain": [
       "    sound  evtcode\n",
       "1    1167     1167\n",
       "2     135      135\n",
       "3    1167     1167\n",
       "4     135      135\n",
       "11   1167     1167\n",
       "12    135      135\n",
       "13   1167     1167\n",
       "14    135      135\n",
       "98    540      540\n",
       "99     12       11"
      ]
     },
     "execution_count": 5,
     "metadata": {},
     "output_type": "execute_result"
    }
   ],
   "source": [
    "pd.concat([csv.groupby(['code']).sound.count(), eeg.groupby(['evtcode']).evtcode.count()], axis=1)"
   ]
  },
  {
   "cell_type": "markdown",
   "id": "exempt-redhead",
   "metadata": {},
   "source": [
    "## Now we want to look at actual sounds used"
   ]
  },
  {
   "cell_type": "code",
   "execution_count": 6,
   "id": "crazy-academy",
   "metadata": {},
   "outputs": [],
   "source": [
    "group1 = pd.read_csv('data_files/Group1Final_Mattsen_Study3_2021_Jul_27_1352.csv')\n",
    "group2 = pd.read_csv('data_files/Group2Final_Mattsen_Study3_2021_Jul_27_1446.csv')"
   ]
  },
  {
   "cell_type": "markdown",
   "id": "virgin-possession",
   "metadata": {},
   "source": [
    "# Group 1 sound for each code"
   ]
  },
  {
   "cell_type": "code",
   "execution_count": 9,
   "id": "automatic-ceiling",
   "metadata": {
    "tags": []
   },
   "outputs": [
    {
     "data": {
      "text/html": [
       "<div>\n",
       "<style scoped>\n",
       "    .dataframe tbody tr th:only-of-type {\n",
       "        vertical-align: middle;\n",
       "    }\n",
       "\n",
       "    .dataframe tbody tr th {\n",
       "        vertical-align: top;\n",
       "    }\n",
       "\n",
       "    .dataframe thead th {\n",
       "        text-align: right;\n",
       "    }\n",
       "</style>\n",
       "<table border=\"1\" class=\"dataframe\">\n",
       "  <thead>\n",
       "    <tr style=\"text-align: right;\">\n",
       "      <th></th>\n",
       "      <th>Code_1</th>\n",
       "      <th>Code_2</th>\n",
       "      <th>Code_3</th>\n",
       "      <th>Code_4</th>\n",
       "      <th>Code_11</th>\n",
       "      <th>Code_12</th>\n",
       "      <th>Code_13</th>\n",
       "      <th>Code_14</th>\n",
       "    </tr>\n",
       "  </thead>\n",
       "  <tbody>\n",
       "    <tr>\n",
       "      <th>0</th>\n",
       "      <td>Central_50ms</td>\n",
       "      <td>Central_100ms</td>\n",
       "      <td>Central_50ms</td>\n",
       "      <td>Central_100ms</td>\n",
       "      <td>Central_50ms</td>\n",
       "      <td>Central_100ms</td>\n",
       "      <td>Central_50ms</td>\n",
       "      <td>Central_100ms</td>\n",
       "    </tr>\n",
       "    <tr>\n",
       "      <th>1</th>\n",
       "      <td>left_22.5deg_50ms</td>\n",
       "      <td>left_22.5deg_100ms</td>\n",
       "      <td>left_22.5deg_50ms</td>\n",
       "      <td>left_22.5deg_100ms</td>\n",
       "      <td>left_22.5deg_50ms</td>\n",
       "      <td>left_22.5deg_100ms</td>\n",
       "      <td>left_22.5deg_50ms</td>\n",
       "      <td>left_22.5deg_100ms</td>\n",
       "    </tr>\n",
       "    <tr>\n",
       "      <th>2</th>\n",
       "      <td>left_45deg_50ms</td>\n",
       "      <td>left_45deg_100ms</td>\n",
       "      <td>right_22.5deg_50ms</td>\n",
       "      <td>right_22.5deg_100ms</td>\n",
       "      <td>left_45deg_50ms</td>\n",
       "      <td>left_45deg_100ms</td>\n",
       "      <td>right_22.5deg_50ms</td>\n",
       "      <td>right_22.5deg_100ms</td>\n",
       "    </tr>\n",
       "    <tr>\n",
       "      <th>3</th>\n",
       "      <td>left_67deg_50ms</td>\n",
       "      <td>left_67deg_100ms</td>\n",
       "      <td>NaN</td>\n",
       "      <td>NaN</td>\n",
       "      <td>left_67deg_50ms</td>\n",
       "      <td>left_67deg_100ms</td>\n",
       "      <td>NaN</td>\n",
       "      <td>NaN</td>\n",
       "    </tr>\n",
       "    <tr>\n",
       "      <th>4</th>\n",
       "      <td>left_90deg_50ms</td>\n",
       "      <td>left_90deg_100ms</td>\n",
       "      <td>NaN</td>\n",
       "      <td>NaN</td>\n",
       "      <td>left_90deg_50ms</td>\n",
       "      <td>left_90deg_100ms</td>\n",
       "      <td>NaN</td>\n",
       "      <td>NaN</td>\n",
       "    </tr>\n",
       "    <tr>\n",
       "      <th>5</th>\n",
       "      <td>right_22.5deg_50ms</td>\n",
       "      <td>right_22.5deg_100ms</td>\n",
       "      <td>NaN</td>\n",
       "      <td>NaN</td>\n",
       "      <td>right_22.5deg_50ms</td>\n",
       "      <td>right_22.5deg_100ms</td>\n",
       "      <td>NaN</td>\n",
       "      <td>NaN</td>\n",
       "    </tr>\n",
       "    <tr>\n",
       "      <th>6</th>\n",
       "      <td>right_45deg_50ms</td>\n",
       "      <td>right_45deg_100ms</td>\n",
       "      <td>NaN</td>\n",
       "      <td>NaN</td>\n",
       "      <td>right_45deg_50ms</td>\n",
       "      <td>right_45deg_100ms</td>\n",
       "      <td>NaN</td>\n",
       "      <td>NaN</td>\n",
       "    </tr>\n",
       "    <tr>\n",
       "      <th>7</th>\n",
       "      <td>right_67deg_50ms</td>\n",
       "      <td>right_67deg_100ms</td>\n",
       "      <td>NaN</td>\n",
       "      <td>NaN</td>\n",
       "      <td>right_67deg_50ms</td>\n",
       "      <td>right_67deg_100ms</td>\n",
       "      <td>NaN</td>\n",
       "      <td>NaN</td>\n",
       "    </tr>\n",
       "    <tr>\n",
       "      <th>8</th>\n",
       "      <td>right_90deg_50ms</td>\n",
       "      <td>right_90deg_100ms</td>\n",
       "      <td>NaN</td>\n",
       "      <td>NaN</td>\n",
       "      <td>right_90deg_50ms</td>\n",
       "      <td>right_90deg_100ms</td>\n",
       "      <td>NaN</td>\n",
       "      <td>NaN</td>\n",
       "    </tr>\n",
       "  </tbody>\n",
       "</table>\n",
       "</div>"
      ],
      "text/plain": [
       "               Code_1               Code_2              Code_3  \\\n",
       "0        Central_50ms        Central_100ms        Central_50ms   \n",
       "1   left_22.5deg_50ms   left_22.5deg_100ms   left_22.5deg_50ms   \n",
       "2     left_45deg_50ms     left_45deg_100ms  right_22.5deg_50ms   \n",
       "3     left_67deg_50ms     left_67deg_100ms                 NaN   \n",
       "4     left_90deg_50ms     left_90deg_100ms                 NaN   \n",
       "5  right_22.5deg_50ms  right_22.5deg_100ms                 NaN   \n",
       "6    right_45deg_50ms    right_45deg_100ms                 NaN   \n",
       "7    right_67deg_50ms    right_67deg_100ms                 NaN   \n",
       "8    right_90deg_50ms    right_90deg_100ms                 NaN   \n",
       "\n",
       "                Code_4             Code_11              Code_12  \\\n",
       "0        Central_100ms        Central_50ms        Central_100ms   \n",
       "1   left_22.5deg_100ms   left_22.5deg_50ms   left_22.5deg_100ms   \n",
       "2  right_22.5deg_100ms     left_45deg_50ms     left_45deg_100ms   \n",
       "3                  NaN     left_67deg_50ms     left_67deg_100ms   \n",
       "4                  NaN     left_90deg_50ms     left_90deg_100ms   \n",
       "5                  NaN  right_22.5deg_50ms  right_22.5deg_100ms   \n",
       "6                  NaN    right_45deg_50ms    right_45deg_100ms   \n",
       "7                  NaN    right_67deg_50ms    right_67deg_100ms   \n",
       "8                  NaN    right_90deg_50ms    right_90deg_100ms   \n",
       "\n",
       "              Code_13              Code_14  \n",
       "0        Central_50ms        Central_100ms  \n",
       "1   left_22.5deg_50ms   left_22.5deg_100ms  \n",
       "2  right_22.5deg_50ms  right_22.5deg_100ms  \n",
       "3                 NaN                  NaN  \n",
       "4                 NaN                  NaN  \n",
       "5                 NaN                  NaN  \n",
       "6                 NaN                  NaN  \n",
       "7                 NaN                  NaN  \n",
       "8                 NaN                  NaN  "
      ]
     },
     "execution_count": 9,
     "metadata": {},
     "output_type": "execute_result"
    }
   ],
   "source": [
    "codes = [1, 2, 3, 4, 11, 12, 13, 14]\n",
    "names = [np.sort(pd.unique(group1[group1.code == x].name)) for x in codes]\n",
    "pd.concat([pd.DataFrame({'Code_{}'.format(code): name_list}) for code, name_list in zip(codes, names)], axis=1)"
   ]
  },
  {
   "cell_type": "markdown",
   "id": "remarkable-syndrome",
   "metadata": {},
   "source": [
    "# Group 2 sound for each code"
   ]
  },
  {
   "cell_type": "code",
   "execution_count": 10,
   "id": "uniform-composite",
   "metadata": {
    "jupyter": {
     "source_hidden": true
    },
    "tags": []
   },
   "outputs": [
    {
     "data": {
      "text/html": [
       "<div>\n",
       "<style scoped>\n",
       "    .dataframe tbody tr th:only-of-type {\n",
       "        vertical-align: middle;\n",
       "    }\n",
       "\n",
       "    .dataframe tbody tr th {\n",
       "        vertical-align: top;\n",
       "    }\n",
       "\n",
       "    .dataframe thead th {\n",
       "        text-align: right;\n",
       "    }\n",
       "</style>\n",
       "<table border=\"1\" class=\"dataframe\">\n",
       "  <thead>\n",
       "    <tr style=\"text-align: right;\">\n",
       "      <th></th>\n",
       "      <th>Code_5</th>\n",
       "      <th>Code_6</th>\n",
       "      <th>Code_7</th>\n",
       "      <th>Code_8</th>\n",
       "      <th>Code_25</th>\n",
       "      <th>Code_26</th>\n",
       "      <th>Code_27</th>\n",
       "      <th>Code_28</th>\n",
       "    </tr>\n",
       "  </thead>\n",
       "  <tbody>\n",
       "    <tr>\n",
       "      <th>0</th>\n",
       "      <td>Central_50ms</td>\n",
       "      <td>Central_100ms</td>\n",
       "      <td>Central_50ms</td>\n",
       "      <td>Central_100ms</td>\n",
       "      <td>Central_50ms</td>\n",
       "      <td>Central_100ms</td>\n",
       "      <td>Central_50ms</td>\n",
       "      <td>Central_100ms</td>\n",
       "    </tr>\n",
       "    <tr>\n",
       "      <th>1</th>\n",
       "      <td>left_22.5deg_50ms</td>\n",
       "      <td>left_22.5deg_100ms</td>\n",
       "      <td>left_22.5deg_50ms</td>\n",
       "      <td>left_22.5deg_100ms</td>\n",
       "      <td>left_22.5deg_50ms</td>\n",
       "      <td>left_22.5deg_100ms</td>\n",
       "      <td>left_22.5deg_50ms</td>\n",
       "      <td>left_22.5deg_100ms</td>\n",
       "    </tr>\n",
       "    <tr>\n",
       "      <th>2</th>\n",
       "      <td>right_22.5deg_50ms</td>\n",
       "      <td>right_22.5deg_100ms</td>\n",
       "      <td>left_45deg_50ms</td>\n",
       "      <td>left_45deg_100ms</td>\n",
       "      <td>right_22.5deg_50ms</td>\n",
       "      <td>right_22.5deg_100ms</td>\n",
       "      <td>left_45deg_50ms</td>\n",
       "      <td>left_45deg_100ms</td>\n",
       "    </tr>\n",
       "    <tr>\n",
       "      <th>3</th>\n",
       "      <td>NaN</td>\n",
       "      <td>NaN</td>\n",
       "      <td>left_67deg_50ms</td>\n",
       "      <td>left_67deg_100ms</td>\n",
       "      <td>NaN</td>\n",
       "      <td>NaN</td>\n",
       "      <td>left_67deg_50ms</td>\n",
       "      <td>left_67deg_100ms</td>\n",
       "    </tr>\n",
       "    <tr>\n",
       "      <th>4</th>\n",
       "      <td>NaN</td>\n",
       "      <td>NaN</td>\n",
       "      <td>left_90deg_50ms</td>\n",
       "      <td>left_90deg_100ms</td>\n",
       "      <td>NaN</td>\n",
       "      <td>NaN</td>\n",
       "      <td>left_90deg_50ms</td>\n",
       "      <td>left_90deg_100ms</td>\n",
       "    </tr>\n",
       "    <tr>\n",
       "      <th>5</th>\n",
       "      <td>NaN</td>\n",
       "      <td>NaN</td>\n",
       "      <td>right_22.5deg_50ms</td>\n",
       "      <td>right_22.5deg_100ms</td>\n",
       "      <td>NaN</td>\n",
       "      <td>NaN</td>\n",
       "      <td>right_22.5deg_50ms</td>\n",
       "      <td>right_22.5deg_100ms</td>\n",
       "    </tr>\n",
       "    <tr>\n",
       "      <th>6</th>\n",
       "      <td>NaN</td>\n",
       "      <td>NaN</td>\n",
       "      <td>right_45deg_50ms</td>\n",
       "      <td>right_45deg_100ms</td>\n",
       "      <td>NaN</td>\n",
       "      <td>NaN</td>\n",
       "      <td>right_45deg_50ms</td>\n",
       "      <td>right_45deg_100ms</td>\n",
       "    </tr>\n",
       "    <tr>\n",
       "      <th>7</th>\n",
       "      <td>NaN</td>\n",
       "      <td>NaN</td>\n",
       "      <td>right_67deg_50ms</td>\n",
       "      <td>right_67deg_100ms</td>\n",
       "      <td>NaN</td>\n",
       "      <td>NaN</td>\n",
       "      <td>right_67deg_50ms</td>\n",
       "      <td>right_67deg_100ms</td>\n",
       "    </tr>\n",
       "    <tr>\n",
       "      <th>8</th>\n",
       "      <td>NaN</td>\n",
       "      <td>NaN</td>\n",
       "      <td>right_90deg_50ms</td>\n",
       "      <td>right_90deg_100ms</td>\n",
       "      <td>NaN</td>\n",
       "      <td>NaN</td>\n",
       "      <td>right_90deg_50ms</td>\n",
       "      <td>right_90deg_100ms</td>\n",
       "    </tr>\n",
       "  </tbody>\n",
       "</table>\n",
       "</div>"
      ],
      "text/plain": [
       "               Code_5               Code_6              Code_7  \\\n",
       "0        Central_50ms        Central_100ms        Central_50ms   \n",
       "1   left_22.5deg_50ms   left_22.5deg_100ms   left_22.5deg_50ms   \n",
       "2  right_22.5deg_50ms  right_22.5deg_100ms     left_45deg_50ms   \n",
       "3                 NaN                  NaN     left_67deg_50ms   \n",
       "4                 NaN                  NaN     left_90deg_50ms   \n",
       "5                 NaN                  NaN  right_22.5deg_50ms   \n",
       "6                 NaN                  NaN    right_45deg_50ms   \n",
       "7                 NaN                  NaN    right_67deg_50ms   \n",
       "8                 NaN                  NaN    right_90deg_50ms   \n",
       "\n",
       "                Code_8             Code_25              Code_26  \\\n",
       "0        Central_100ms        Central_50ms        Central_100ms   \n",
       "1   left_22.5deg_100ms   left_22.5deg_50ms   left_22.5deg_100ms   \n",
       "2     left_45deg_100ms  right_22.5deg_50ms  right_22.5deg_100ms   \n",
       "3     left_67deg_100ms                 NaN                  NaN   \n",
       "4     left_90deg_100ms                 NaN                  NaN   \n",
       "5  right_22.5deg_100ms                 NaN                  NaN   \n",
       "6    right_45deg_100ms                 NaN                  NaN   \n",
       "7    right_67deg_100ms                 NaN                  NaN   \n",
       "8    right_90deg_100ms                 NaN                  NaN   \n",
       "\n",
       "              Code_27              Code_28  \n",
       "0        Central_50ms        Central_100ms  \n",
       "1   left_22.5deg_50ms   left_22.5deg_100ms  \n",
       "2     left_45deg_50ms     left_45deg_100ms  \n",
       "3     left_67deg_50ms     left_67deg_100ms  \n",
       "4     left_90deg_50ms     left_90deg_100ms  \n",
       "5  right_22.5deg_50ms  right_22.5deg_100ms  \n",
       "6    right_45deg_50ms    right_45deg_100ms  \n",
       "7    right_67deg_50ms    right_67deg_100ms  \n",
       "8    right_90deg_50ms    right_90deg_100ms  "
      ]
     },
     "execution_count": 10,
     "metadata": {},
     "output_type": "execute_result"
    }
   ],
   "source": [
    "codes = [5, 6, 7, 8, 25, 26, 27, 28]\n",
    "names = [np.sort(pd.unique(group2[group2.code == x].name)) for x in codes]\n",
    "pd.concat([pd.DataFrame({'Code_{}'.format(code): name_list}) for code, name_list in zip(codes, names)], axis=1)"
   ]
  },
  {
   "cell_type": "code",
   "execution_count": 11,
   "id": "virgin-jonathan",
   "metadata": {},
   "outputs": [
    {
     "data": {
      "text/plain": [
       "array([ 5,  6,  7,  8, 25, 26, 27, 28, 98, 99])"
      ]
     },
     "execution_count": 11,
     "metadata": {},
     "output_type": "execute_result"
    }
   ],
   "source": [
    "np.unique(group2.code)"
   ]
  },
  {
   "cell_type": "code",
   "execution_count": 12,
   "id": "indie-conservative",
   "metadata": {},
   "outputs": [],
   "source": [
    "sound_set = [\n",
    "    'Central_100ms.wav', 'Central_50ms.wav', 'left_22.5deg_100ms.wav',\n",
    "    'left_22.5deg_50ms.wav', 'left_45deg_100ms.wav', 'left_45deg_50ms.wav',\n",
    "    'left_67deg_100ms.wav', 'left_67deg_50ms.wav', 'left_90deg_100ms.wav',\n",
    "    'left_90deg_50ms.wav', 'right_22.5deg_100ms.wav', 'right_22.5deg_50ms.wav',\n",
    "    'right_45deg_100ms.wav', 'right_45deg_50ms.wav', 'right_67deg_100ms.wav',\n",
    "    'right_67deg_50ms.wav', 'right_90deg_100ms.wav', 'right_90deg_50ms.wav'\n",
    "]\n",
    "sound_files = ['stimuli/' + s for s in sound_set]\n",
    "classes = ['std' if '50ms' in s else 'dev' for s in sound_set]\n",
    "\n",
    "counts = {\n",
    "    'hvc': [145 if c == 'std' else 15 for c in classes],\n",
    "    'lvc': [261 if c == 'std' else 27 for c in classes],\n",
    "    'vlvc': [435 if c == 'std' else 45 for c in classes],\n",
    "}\n",
    "for idx, snd in enumerate(sound_set):\n",
    "    if '67deg' in snd or '90deg' in snd:\n",
    "        counts['lvc'][idx] = 0\n",
    "        counts['vlvc'][idx] = 0\n",
    "    if '45deg' in snd:\n",
    "        counts['vlvc'][idx] = 0\n"
   ]
  },
  {
   "cell_type": "code",
   "execution_count": 13,
   "id": "hazardous-trace",
   "metadata": {},
   "outputs": [
    {
     "data": {
      "text/plain": [
       "1440"
      ]
     },
     "execution_count": 13,
     "metadata": {},
     "output_type": "execute_result"
    }
   ],
   "source": [
    "sum(counts['vlvc'])"
   ]
  },
  {
   "cell_type": "code",
   "execution_count": 14,
   "id": "interested-kidney",
   "metadata": {},
   "outputs": [
    {
     "data": {
      "text/plain": [
       "0.09375"
      ]
     },
     "execution_count": 14,
     "metadata": {},
     "output_type": "execute_result"
    }
   ],
   "source": [
    "15/(145+15)"
   ]
  },
  {
   "cell_type": "code",
   "execution_count": 15,
   "id": "romantic-palestinian",
   "metadata": {},
   "outputs": [
    {
     "data": {
      "text/plain": [
       "0.09375"
      ]
     },
     "execution_count": 15,
     "metadata": {},
     "output_type": "execute_result"
    }
   ],
   "source": [
    "27/(261+27)"
   ]
  },
  {
   "cell_type": "code",
   "execution_count": 16,
   "id": "assigned-disclaimer",
   "metadata": {},
   "outputs": [
    {
     "data": {
      "text/plain": [
       "0.09375"
      ]
     },
     "execution_count": 16,
     "metadata": {},
     "output_type": "execute_result"
    }
   ],
   "source": [
    "45/(435+45)\n"
   ]
  },
  {
   "cell_type": "code",
   "execution_count": null,
   "id": "possible-popularity",
   "metadata": {},
   "outputs": [],
   "source": []
  }
 ],
 "metadata": {
  "kernelspec": {
   "display_name": "Python 3",
   "language": "python",
   "name": "python3"
  },
  "language_info": {
   "codemirror_mode": {
    "name": "ipython",
    "version": 3
   },
   "file_extension": ".py",
   "mimetype": "text/x-python",
   "name": "python",
   "nbconvert_exporter": "python",
   "pygments_lexer": "ipython3",
   "version": "3.9.2"
  }
 },
 "nbformat": 4,
 "nbformat_minor": 5
}
